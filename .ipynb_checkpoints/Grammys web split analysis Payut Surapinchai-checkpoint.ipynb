{
 "cells": [
  {
   "cell_type": "markdown",
   "id": "9c247e67-36c0-4636-b18c-e7fd14ff4b02",
   "metadata": {},
   "source": [
    "# Grammys and The Recording Academy Web Analytics\n",
    "### By Payut Surapinchai\n",
    "\n",
    "## Introduction\n",
    "\n",
    "After Grammy chose to split their main website into two separate domains, grammy.com and therecordingacademy.com, it raised several questions for this change. Did this change affect their web traffic? Does one website outperform the other? Does special days like \"Grammy Awards\" have any effect to one, both, or neither? \n",
    "\n",
    "In this project, I will be analyzing the web traffic data where it contains Grammy before and after the split. However, I will solely be focused on analyzing Grammy and The Recording Academy(TRA) after the website split. The goal is to uncover trends and derive insights that could help Grammy organization manage and optimize their website more efficiently."
   ]
  },
  {
   "cell_type": "markdown",
   "id": "6b042e84-c154-4cfa-af18-96bac2d98268",
   "metadata": {},
   "source": [
    "## Packages & Libraries\n",
    "\n",
    "Make sure to run the following code cell to import the package & libraries needed for this project.\n",
    "\n",
    "**NOTE**: Make sure you have these libraries installed in your working environment; otherwise, importing them would result in an error."
   ]
  },
  {
   "cell_type": "code",
   "execution_count": 2,
   "id": "48975cb3-d20a-48f2-ac85-74f184c10a07",
   "metadata": {},
   "outputs": [],
   "source": [
    "import matplotlib.pyplot as plt\n",
    "import pandas as pd\n",
    "import numpy as np"
   ]
  },
  {
   "cell_type": "markdown",
   "id": "c33f6132-8008-4b71-b872-6716d3902f80",
   "metadata": {},
   "source": [
    "**-matplotlib.pyplot:** `Matplotlib.pyplot` is a module from `Matplotlib` library. This library consists of functions that allows you to create various easy Python plots.\n",
    "\n",
    "**-pandas:** `Pandas` library allows us to have access to powerful data structures like, DataFrames, along with data cleaning tools, data analysis tools, and data manipulation tools.\n",
    "\n",
    "**-numpy:** `NumPy` library is a fundamental library for numerical computing. This library offers us multi-dimensional arrays and various mathematical functions which are crucial for mathematical calculations and scientific computing.\n",
    "\n",
    "**NOTE:** I imported the library using aliases(e.g., `import pandas as pd`), so I don't have to type the full library name to use its functions/methods. For example, instead of writing `pandas.read_csv(file_directory or file_name)`, I could type `pd.read_csv(file_directory or file_name)` instead. This way, my code will look more cleaner and my work will be more efficient."
   ]
  },
  {
   "cell_type": "markdown",
   "id": "1a6977f4-687d-4448-8a8f-720b0cb7ba18",
   "metadata": {},
   "source": [
    "# Data Cleaning\n",
    "\n",
    "I was fortunate enough to receive this dataset from one of my courses in University of Colorado Denver. In addition, this dataset has already been cleaned. For that reason, I didn't have to go through much data cleaning process. However, when I imported the file, there were some columns I had to remove. \n",
    "\n",
    "So, let's do some data cleaning!"
   ]
  },
  {
   "cell_type": "markdown",
   "id": "aa4b151d-381c-446e-84ae-9fc8b096ec2c",
   "metadata": {},
   "source": [
    "### Importing datasets"
   ]
  },
  {
   "cell_type": "code",
   "execution_count": 3,
   "id": "89a5e72c-c409-4636-9315-552826b8aaab",
   "metadata": {},
   "outputs": [
    {
     "data": {
      "text/html": [
       "<div>\n",
       "<style scoped>\n",
       "    .dataframe tbody tr th:only-of-type {\n",
       "        vertical-align: middle;\n",
       "    }\n",
       "\n",
       "    .dataframe tbody tr th {\n",
       "        vertical-align: top;\n",
       "    }\n",
       "\n",
       "    .dataframe thead th {\n",
       "        text-align: right;\n",
       "    }\n",
       "</style>\n",
       "<table border=\"1\" class=\"dataframe\">\n",
       "  <thead>\n",
       "    <tr style=\"text-align: right;\">\n",
       "      <th></th>\n",
       "      <th>date</th>\n",
       "      <th>visitors</th>\n",
       "      <th>pageviews</th>\n",
       "      <th>sessions</th>\n",
       "      <th>bounced_sessions</th>\n",
       "      <th>avg_session_duration_secs</th>\n",
       "      <th>event_type</th>\n",
       "      <th>website_content</th>\n",
       "      <th>mobile_visitors</th>\n",
       "      <th>Unnamed: 9</th>\n",
       "      <th>Unnamed: 10</th>\n",
       "      <th>Unnamed: 11</th>\n",
       "      <th>Unnamed: 12</th>\n",
       "      <th>Unnamed: 13</th>\n",
       "      <th>date.1</th>\n",
       "      <th>mobile_visitors.1</th>\n",
       "    </tr>\n",
       "  </thead>\n",
       "  <tbody>\n",
       "    <tr>\n",
       "      <th>0</th>\n",
       "      <td>1/1/2017</td>\n",
       "      <td>9611</td>\n",
       "      <td>21407</td>\n",
       "      <td>10196</td>\n",
       "      <td>6490</td>\n",
       "      <td>86</td>\n",
       "      <td>Regular Day</td>\n",
       "      <td>Grammys + TRA</td>\n",
       "      <td>0</td>\n",
       "      <td>NaN</td>\n",
       "      <td>NaN</td>\n",
       "      <td>NaN</td>\n",
       "      <td>NaN</td>\n",
       "      <td>NaN</td>\n",
       "      <td>2/1/2022</td>\n",
       "      <td>23014.0</td>\n",
       "    </tr>\n",
       "    <tr>\n",
       "      <th>1</th>\n",
       "      <td>1/2/2017</td>\n",
       "      <td>10752</td>\n",
       "      <td>25658</td>\n",
       "      <td>11350</td>\n",
       "      <td>7055</td>\n",
       "      <td>100</td>\n",
       "      <td>Regular Day</td>\n",
       "      <td>Grammys + TRA</td>\n",
       "      <td>0</td>\n",
       "      <td>NaN</td>\n",
       "      <td>NaN</td>\n",
       "      <td>NaN</td>\n",
       "      <td>NaN</td>\n",
       "      <td>NaN</td>\n",
       "      <td>2/2/2022</td>\n",
       "      <td>19951.0</td>\n",
       "    </tr>\n",
       "    <tr>\n",
       "      <th>2</th>\n",
       "      <td>1/3/2017</td>\n",
       "      <td>11425</td>\n",
       "      <td>27062</td>\n",
       "      <td>12215</td>\n",
       "      <td>7569</td>\n",
       "      <td>92</td>\n",
       "      <td>Regular Day</td>\n",
       "      <td>Grammys + TRA</td>\n",
       "      <td>0</td>\n",
       "      <td>NaN</td>\n",
       "      <td>NaN</td>\n",
       "      <td>NaN</td>\n",
       "      <td>NaN</td>\n",
       "      <td>NaN</td>\n",
       "      <td>2/3/2022</td>\n",
       "      <td>21567.0</td>\n",
       "    </tr>\n",
       "    <tr>\n",
       "      <th>3</th>\n",
       "      <td>1/4/2017</td>\n",
       "      <td>13098</td>\n",
       "      <td>29189</td>\n",
       "      <td>13852</td>\n",
       "      <td>8929</td>\n",
       "      <td>90</td>\n",
       "      <td>Regular Day</td>\n",
       "      <td>Grammys + TRA</td>\n",
       "      <td>0</td>\n",
       "      <td>NaN</td>\n",
       "      <td>NaN</td>\n",
       "      <td>NaN</td>\n",
       "      <td>NaN</td>\n",
       "      <td>NaN</td>\n",
       "      <td>2/4/2022</td>\n",
       "      <td>18362.0</td>\n",
       "    </tr>\n",
       "    <tr>\n",
       "      <th>4</th>\n",
       "      <td>1/5/2017</td>\n",
       "      <td>12234</td>\n",
       "      <td>28288</td>\n",
       "      <td>12990</td>\n",
       "      <td>8105</td>\n",
       "      <td>95</td>\n",
       "      <td>Regular Day</td>\n",
       "      <td>Grammys + TRA</td>\n",
       "      <td>0</td>\n",
       "      <td>NaN</td>\n",
       "      <td>NaN</td>\n",
       "      <td>NaN</td>\n",
       "      <td>NaN</td>\n",
       "      <td>NaN</td>\n",
       "      <td>2/5/2022</td>\n",
       "      <td>12590.0</td>\n",
       "    </tr>\n",
       "  </tbody>\n",
       "</table>\n",
       "</div>"
      ],
      "text/plain": [
       "       date  visitors  pageviews  sessions  bounced_sessions  \\\n",
       "0  1/1/2017      9611      21407     10196              6490   \n",
       "1  1/2/2017     10752      25658     11350              7055   \n",
       "2  1/3/2017     11425      27062     12215              7569   \n",
       "3  1/4/2017     13098      29189     13852              8929   \n",
       "4  1/5/2017     12234      28288     12990              8105   \n",
       "\n",
       "   avg_session_duration_secs   event_type website_content  mobile_visitors  \\\n",
       "0                         86  Regular Day   Grammys + TRA                0   \n",
       "1                        100  Regular Day   Grammys + TRA                0   \n",
       "2                         92  Regular Day   Grammys + TRA                0   \n",
       "3                         90  Regular Day   Grammys + TRA                0   \n",
       "4                         95  Regular Day   Grammys + TRA                0   \n",
       "\n",
       "   Unnamed: 9  Unnamed: 10  Unnamed: 11  Unnamed: 12  Unnamed: 13    date.1  \\\n",
       "0         NaN          NaN          NaN          NaN          NaN  2/1/2022   \n",
       "1         NaN          NaN          NaN          NaN          NaN  2/2/2022   \n",
       "2         NaN          NaN          NaN          NaN          NaN  2/3/2022   \n",
       "3         NaN          NaN          NaN          NaN          NaN  2/4/2022   \n",
       "4         NaN          NaN          NaN          NaN          NaN  2/5/2022   \n",
       "\n",
       "   mobile_visitors.1  \n",
       "0            23014.0  \n",
       "1            19951.0  \n",
       "2            21567.0  \n",
       "3            18362.0  \n",
       "4            12590.0  "
      ]
     },
     "execution_count": 3,
     "metadata": {},
     "output_type": "execute_result"
    }
   ],
   "source": [
    "# Use .read_csv(file_name) to read in the csv file into a data frame and store it in df_gram\n",
    "df_gram = pd.read_csv(\"Grammys.csv\")\n",
    "\n",
    "# Use .head() to print out the first 5 rows to check the columns.\n",
    "df_gram.head()"
   ]
  },
  {
   "cell_type": "code",
   "execution_count": 4,
   "id": "c9b2d693-ebd8-426b-a51d-8c606c7b7607",
   "metadata": {},
   "outputs": [
    {
     "data": {
      "text/html": [
       "<div>\n",
       "<style scoped>\n",
       "    .dataframe tbody tr th:only-of-type {\n",
       "        vertical-align: middle;\n",
       "    }\n",
       "\n",
       "    .dataframe tbody tr th {\n",
       "        vertical-align: top;\n",
       "    }\n",
       "\n",
       "    .dataframe thead th {\n",
       "        text-align: right;\n",
       "    }\n",
       "</style>\n",
       "<table border=\"1\" class=\"dataframe\">\n",
       "  <thead>\n",
       "    <tr style=\"text-align: right;\">\n",
       "      <th></th>\n",
       "      <th>date</th>\n",
       "      <th>year</th>\n",
       "      <th>visitors</th>\n",
       "      <th>pageviews</th>\n",
       "      <th>sessions</th>\n",
       "      <th>bounced_sessions</th>\n",
       "      <th>avg_session_duration_secs</th>\n",
       "    </tr>\n",
       "  </thead>\n",
       "  <tbody>\n",
       "    <tr>\n",
       "      <th>0</th>\n",
       "      <td>2/1/2022</td>\n",
       "      <td>2022</td>\n",
       "      <td>928</td>\n",
       "      <td>2856</td>\n",
       "      <td>1092</td>\n",
       "      <td>591</td>\n",
       "      <td>148</td>\n",
       "    </tr>\n",
       "    <tr>\n",
       "      <th>1</th>\n",
       "      <td>2/2/2022</td>\n",
       "      <td>2022</td>\n",
       "      <td>1329</td>\n",
       "      <td>3233</td>\n",
       "      <td>1490</td>\n",
       "      <td>923</td>\n",
       "      <td>90</td>\n",
       "    </tr>\n",
       "    <tr>\n",
       "      <th>2</th>\n",
       "      <td>2/3/2022</td>\n",
       "      <td>2022</td>\n",
       "      <td>1138</td>\n",
       "      <td>3340</td>\n",
       "      <td>1322</td>\n",
       "      <td>754</td>\n",
       "      <td>127</td>\n",
       "    </tr>\n",
       "    <tr>\n",
       "      <th>3</th>\n",
       "      <td>2/4/2022</td>\n",
       "      <td>2022</td>\n",
       "      <td>811</td>\n",
       "      <td>2552</td>\n",
       "      <td>963</td>\n",
       "      <td>534</td>\n",
       "      <td>142</td>\n",
       "    </tr>\n",
       "    <tr>\n",
       "      <th>4</th>\n",
       "      <td>2/5/2022</td>\n",
       "      <td>2022</td>\n",
       "      <td>541</td>\n",
       "      <td>1530</td>\n",
       "      <td>602</td>\n",
       "      <td>326</td>\n",
       "      <td>111</td>\n",
       "    </tr>\n",
       "  </tbody>\n",
       "</table>\n",
       "</div>"
      ],
      "text/plain": [
       "       date  year  visitors  pageviews  sessions  bounced_sessions  \\\n",
       "0  2/1/2022  2022       928       2856      1092               591   \n",
       "1  2/2/2022  2022      1329       3233      1490               923   \n",
       "2  2/3/2022  2022      1138       3340      1322               754   \n",
       "3  2/4/2022  2022       811       2552       963               534   \n",
       "4  2/5/2022  2022       541       1530       602               326   \n",
       "\n",
       "   avg_session_duration_secs  \n",
       "0                        148  \n",
       "1                         90  \n",
       "2                        127  \n",
       "3                        142  \n",
       "4                        111  "
      ]
     },
     "execution_count": 4,
     "metadata": {},
     "output_type": "execute_result"
    }
   ],
   "source": [
    "# Read in the csv for TRA website using the same process as the cell above.\n",
    "df_tra = pd.read_csv(\"TRA.csv\")\n",
    "\n",
    "df_tra.head()"
   ]
  },
  {
   "cell_type": "markdown",
   "id": "1aae992d-5c80-4b40-8d1e-d02718f8c64a",
   "metadata": {},
   "source": [
    "I started the process by reading the `.csv` file from my local computer by using the `Pandas` library. From the `Pandas` library, we use `.read_csv(file_name)` function to read in the csv and convert it into a data frame and store the result in `df_gram`.\n",
    "\n",
    "**NOTE:** In this cell, I used the file name because this project is in the same folder as the dataset. However, if your project is not in the folder as your dataset, you will be required to use the file directory instead of file name in the `read_csv()` argument."
   ]
  },
  {
   "cell_type": "markdown",
   "id": "c6a73b22-14ea-4717-8e5b-f2637f1f9d28",
   "metadata": {},
   "source": [
    "As you can see, the columns after `mobile_visitors` are unnamed and there are duplicate columns named `date.1` and `mobile_visitors.1`. This happened because in the original excel file—before I export to a csv—there are 2 columns called `date` and `mobile_visitors` that were not part of the main table, instead the columns were separated elsewhere. When exported to `.csv`, the gaps between two tables became unnamed columns and the duplicate columns became `date.1` and `mobile_visitors.1` which are unwanted columns. Therefore, I will remove these columns from the dataframe."
   ]
  },
  {
   "cell_type": "markdown",
   "id": "f2fdd8f3-fd47-49e6-8da6-c85922db8ac2",
   "metadata": {},
   "source": [
    "**NOTE:** I don't need to clean TRA's dataframe because the column names are cleaned and there are no unexpected columns in the dataframe. Which means that this dataframe is ready for the analysis."
   ]
  },
  {
   "cell_type": "markdown",
   "id": "baab368e-056f-47d7-81ec-9ffeed4294ac",
   "metadata": {},
   "source": [
    "### Cleaning the dataframe"
   ]
  },
  {
   "cell_type": "code",
   "execution_count": 5,
   "id": "88119e42-7e53-41e5-859f-7e6c356d5e65",
   "metadata": {},
   "outputs": [
    {
     "data": {
      "text/html": [
       "<div>\n",
       "<style scoped>\n",
       "    .dataframe tbody tr th:only-of-type {\n",
       "        vertical-align: middle;\n",
       "    }\n",
       "\n",
       "    .dataframe tbody tr th {\n",
       "        vertical-align: top;\n",
       "    }\n",
       "\n",
       "    .dataframe thead th {\n",
       "        text-align: right;\n",
       "    }\n",
       "</style>\n",
       "<table border=\"1\" class=\"dataframe\">\n",
       "  <thead>\n",
       "    <tr style=\"text-align: right;\">\n",
       "      <th></th>\n",
       "      <th>date</th>\n",
       "      <th>visitors</th>\n",
       "      <th>pageviews</th>\n",
       "      <th>sessions</th>\n",
       "      <th>bounced_sessions</th>\n",
       "      <th>avg_session_duration_secs</th>\n",
       "      <th>event_type</th>\n",
       "      <th>website_content</th>\n",
       "      <th>mobile_visitors</th>\n",
       "    </tr>\n",
       "  </thead>\n",
       "  <tbody>\n",
       "    <tr>\n",
       "      <th>0</th>\n",
       "      <td>1/1/2017</td>\n",
       "      <td>9611</td>\n",
       "      <td>21407</td>\n",
       "      <td>10196</td>\n",
       "      <td>6490</td>\n",
       "      <td>86</td>\n",
       "      <td>Regular Day</td>\n",
       "      <td>Grammys + TRA</td>\n",
       "      <td>0</td>\n",
       "    </tr>\n",
       "    <tr>\n",
       "      <th>1</th>\n",
       "      <td>1/2/2017</td>\n",
       "      <td>10752</td>\n",
       "      <td>25658</td>\n",
       "      <td>11350</td>\n",
       "      <td>7055</td>\n",
       "      <td>100</td>\n",
       "      <td>Regular Day</td>\n",
       "      <td>Grammys + TRA</td>\n",
       "      <td>0</td>\n",
       "    </tr>\n",
       "    <tr>\n",
       "      <th>2</th>\n",
       "      <td>1/3/2017</td>\n",
       "      <td>11425</td>\n",
       "      <td>27062</td>\n",
       "      <td>12215</td>\n",
       "      <td>7569</td>\n",
       "      <td>92</td>\n",
       "      <td>Regular Day</td>\n",
       "      <td>Grammys + TRA</td>\n",
       "      <td>0</td>\n",
       "    </tr>\n",
       "    <tr>\n",
       "      <th>3</th>\n",
       "      <td>1/4/2017</td>\n",
       "      <td>13098</td>\n",
       "      <td>29189</td>\n",
       "      <td>13852</td>\n",
       "      <td>8929</td>\n",
       "      <td>90</td>\n",
       "      <td>Regular Day</td>\n",
       "      <td>Grammys + TRA</td>\n",
       "      <td>0</td>\n",
       "    </tr>\n",
       "    <tr>\n",
       "      <th>4</th>\n",
       "      <td>1/5/2017</td>\n",
       "      <td>12234</td>\n",
       "      <td>28288</td>\n",
       "      <td>12990</td>\n",
       "      <td>8105</td>\n",
       "      <td>95</td>\n",
       "      <td>Regular Day</td>\n",
       "      <td>Grammys + TRA</td>\n",
       "      <td>0</td>\n",
       "    </tr>\n",
       "  </tbody>\n",
       "</table>\n",
       "</div>"
      ],
      "text/plain": [
       "       date  visitors  pageviews  sessions  bounced_sessions  \\\n",
       "0  1/1/2017      9611      21407     10196              6490   \n",
       "1  1/2/2017     10752      25658     11350              7055   \n",
       "2  1/3/2017     11425      27062     12215              7569   \n",
       "3  1/4/2017     13098      29189     13852              8929   \n",
       "4  1/5/2017     12234      28288     12990              8105   \n",
       "\n",
       "   avg_session_duration_secs   event_type website_content  mobile_visitors  \n",
       "0                         86  Regular Day   Grammys + TRA                0  \n",
       "1                        100  Regular Day   Grammys + TRA                0  \n",
       "2                         92  Regular Day   Grammys + TRA                0  \n",
       "3                         90  Regular Day   Grammys + TRA                0  \n",
       "4                         95  Regular Day   Grammys + TRA                0  "
      ]
     },
     "execution_count": 5,
     "metadata": {},
     "output_type": "execute_result"
    }
   ],
   "source": [
    "# Select the columns that I want by using .iloc[rows, columns] where I selected all the rows and only the columns that I need.\n",
    "# \":\" means to select all rows, and 0:9 means to select the first column until the 9th column(counting with zero as first).\n",
    "df_gram = df_gram.iloc[:, 0:9]\n",
    "\n",
    "df_gram.head()"
   ]
  },
  {
   "cell_type": "markdown",
   "id": "efb691b8-3c24-4f13-857b-f25918088304",
   "metadata": {},
   "source": [
    "I decided to use `.iloc[rows, columns]` to select the columns that I want. Now that I have selected the columns that I need, we are ready for the next process, Data Prepping!"
   ]
  },
  {
   "cell_type": "markdown",
   "id": "ab93d7c8-bba8-453d-91cd-eeee9dfab446",
   "metadata": {},
   "source": [
    "# Data Prepping\n",
    "\n",
    "In this section, I will be preparing the data for it to be ready for an analysis. "
   ]
  },
  {
   "cell_type": "markdown",
   "id": "155037b3-b5bf-4523-99ad-419e44cb335f",
   "metadata": {},
   "source": [
    "### Grammys\n",
    "\n",
    "Currently, our dataframe has website content of \"Grammys + TRA\" and \"Grammys\", but I only want when Grammys splitted their website into only Grammys and TRA. Therefore, I will select only the rows that have \"Grammys\" and not \"Grammys + TRA\"."
   ]
  },
  {
   "cell_type": "code",
   "execution_count": 6,
   "id": "dd38860e-8e33-404d-8af8-fb7c01afe951",
   "metadata": {},
   "outputs": [
    {
     "data": {
      "text/html": [
       "<div>\n",
       "<style scoped>\n",
       "    .dataframe tbody tr th:only-of-type {\n",
       "        vertical-align: middle;\n",
       "    }\n",
       "\n",
       "    .dataframe tbody tr th {\n",
       "        vertical-align: top;\n",
       "    }\n",
       "\n",
       "    .dataframe thead th {\n",
       "        text-align: right;\n",
       "    }\n",
       "</style>\n",
       "<table border=\"1\" class=\"dataframe\">\n",
       "  <thead>\n",
       "    <tr style=\"text-align: right;\">\n",
       "      <th></th>\n",
       "      <th>date</th>\n",
       "      <th>visitors</th>\n",
       "      <th>pageviews</th>\n",
       "      <th>sessions</th>\n",
       "      <th>bounced_sessions</th>\n",
       "      <th>avg_session_duration_secs</th>\n",
       "      <th>event_type</th>\n",
       "      <th>website_content</th>\n",
       "      <th>mobile_visitors</th>\n",
       "    </tr>\n",
       "  </thead>\n",
       "  <tbody>\n",
       "    <tr>\n",
       "      <th>1857</th>\n",
       "      <td>2/1/2022</td>\n",
       "      <td>33209</td>\n",
       "      <td>74033</td>\n",
       "      <td>30472</td>\n",
       "      <td>13070</td>\n",
       "      <td>69</td>\n",
       "      <td>Regular Day</td>\n",
       "      <td>Grammys</td>\n",
       "      <td>23014</td>\n",
       "    </tr>\n",
       "    <tr>\n",
       "      <th>1858</th>\n",
       "      <td>2/2/2022</td>\n",
       "      <td>30511</td>\n",
       "      <td>43642</td>\n",
       "      <td>20761</td>\n",
       "      <td>11814</td>\n",
       "      <td>85</td>\n",
       "      <td>Regular Day</td>\n",
       "      <td>Grammys</td>\n",
       "      <td>19951</td>\n",
       "    </tr>\n",
       "    <tr>\n",
       "      <th>1859</th>\n",
       "      <td>2/3/2022</td>\n",
       "      <td>31502</td>\n",
       "      <td>44147</td>\n",
       "      <td>20830</td>\n",
       "      <td>12015</td>\n",
       "      <td>90</td>\n",
       "      <td>Regular Day</td>\n",
       "      <td>Grammys</td>\n",
       "      <td>21567</td>\n",
       "    </tr>\n",
       "    <tr>\n",
       "      <th>1860</th>\n",
       "      <td>2/4/2022</td>\n",
       "      <td>26863</td>\n",
       "      <td>39483</td>\n",
       "      <td>18700</td>\n",
       "      <td>10731</td>\n",
       "      <td>85</td>\n",
       "      <td>Regular Day</td>\n",
       "      <td>Grammys</td>\n",
       "      <td>18362</td>\n",
       "    </tr>\n",
       "    <tr>\n",
       "      <th>1861</th>\n",
       "      <td>2/5/2022</td>\n",
       "      <td>18014</td>\n",
       "      <td>35046</td>\n",
       "      <td>16860</td>\n",
       "      <td>9604</td>\n",
       "      <td>75</td>\n",
       "      <td>Regular Day</td>\n",
       "      <td>Grammys</td>\n",
       "      <td>12590</td>\n",
       "    </tr>\n",
       "  </tbody>\n",
       "</table>\n",
       "</div>"
      ],
      "text/plain": [
       "          date  visitors  pageviews  sessions  bounced_sessions  \\\n",
       "1857  2/1/2022     33209      74033     30472             13070   \n",
       "1858  2/2/2022     30511      43642     20761             11814   \n",
       "1859  2/3/2022     31502      44147     20830             12015   \n",
       "1860  2/4/2022     26863      39483     18700             10731   \n",
       "1861  2/5/2022     18014      35046     16860              9604   \n",
       "\n",
       "      avg_session_duration_secs   event_type website_content  mobile_visitors  \n",
       "1857                         69  Regular Day         Grammys            23014  \n",
       "1858                         85  Regular Day         Grammys            19951  \n",
       "1859                         90  Regular Day         Grammys            21567  \n",
       "1860                         85  Regular Day         Grammys            18362  \n",
       "1861                         75  Regular Day         Grammys            12590  "
      ]
     },
     "execution_count": 6,
     "metadata": {},
     "output_type": "execute_result"
    }
   ],
   "source": [
    "# In this line we are basically saying that, filter the df_gram dataframe where df_gram's website_content observations are not \"Grammys + TRA\". \n",
    "df_gram_notra = df_gram[df_gram[\"website_content\"] != \"Grammys + TRA\"]\n",
    "\n",
    "# Check the results.\n",
    "df_gram_notra.head()"
   ]
  },
  {
   "cell_type": "markdown",
   "id": "d50c269b-56a0-4853-9b4b-370e4b6aa950",
   "metadata": {},
   "source": [
    "I filtered the rows in website_content by utilizing the slicing dataframes concept in `Pandas` library. Now that we filtered the rows in `website_content` to Grammys, we are now ready for some exploratory data analysis!"
   ]
  },
  {
   "cell_type": "markdown",
   "id": "bc45c98b-5be4-4d50-b4bf-5014d0e77ee6",
   "metadata": {},
   "source": [
    "### Grammys + TRA\n",
    "\n",
    "In addition to a dataframe after the split, I also want data before the split which is when Grammys and TRA were in the same website. I've done this just incase I need to do comparisons before and after the web split."
   ]
  },
  {
   "cell_type": "code",
   "execution_count": 7,
   "id": "ac8d319b-96c1-4706-a3a7-50fd26e47498",
   "metadata": {},
   "outputs": [
    {
     "data": {
      "text/html": [
       "<div>\n",
       "<style scoped>\n",
       "    .dataframe tbody tr th:only-of-type {\n",
       "        vertical-align: middle;\n",
       "    }\n",
       "\n",
       "    .dataframe tbody tr th {\n",
       "        vertical-align: top;\n",
       "    }\n",
       "\n",
       "    .dataframe thead th {\n",
       "        text-align: right;\n",
       "    }\n",
       "</style>\n",
       "<table border=\"1\" class=\"dataframe\">\n",
       "  <thead>\n",
       "    <tr style=\"text-align: right;\">\n",
       "      <th></th>\n",
       "      <th>date</th>\n",
       "      <th>visitors</th>\n",
       "      <th>pageviews</th>\n",
       "      <th>sessions</th>\n",
       "      <th>bounced_sessions</th>\n",
       "      <th>avg_session_duration_secs</th>\n",
       "      <th>event_type</th>\n",
       "      <th>website_content</th>\n",
       "      <th>mobile_visitors</th>\n",
       "    </tr>\n",
       "  </thead>\n",
       "  <tbody>\n",
       "    <tr>\n",
       "      <th>0</th>\n",
       "      <td>1/1/2017</td>\n",
       "      <td>9611</td>\n",
       "      <td>21407</td>\n",
       "      <td>10196</td>\n",
       "      <td>6490</td>\n",
       "      <td>86</td>\n",
       "      <td>Regular Day</td>\n",
       "      <td>Grammys + TRA</td>\n",
       "      <td>0</td>\n",
       "    </tr>\n",
       "    <tr>\n",
       "      <th>1</th>\n",
       "      <td>1/2/2017</td>\n",
       "      <td>10752</td>\n",
       "      <td>25658</td>\n",
       "      <td>11350</td>\n",
       "      <td>7055</td>\n",
       "      <td>100</td>\n",
       "      <td>Regular Day</td>\n",
       "      <td>Grammys + TRA</td>\n",
       "      <td>0</td>\n",
       "    </tr>\n",
       "    <tr>\n",
       "      <th>2</th>\n",
       "      <td>1/3/2017</td>\n",
       "      <td>11425</td>\n",
       "      <td>27062</td>\n",
       "      <td>12215</td>\n",
       "      <td>7569</td>\n",
       "      <td>92</td>\n",
       "      <td>Regular Day</td>\n",
       "      <td>Grammys + TRA</td>\n",
       "      <td>0</td>\n",
       "    </tr>\n",
       "    <tr>\n",
       "      <th>3</th>\n",
       "      <td>1/4/2017</td>\n",
       "      <td>13098</td>\n",
       "      <td>29189</td>\n",
       "      <td>13852</td>\n",
       "      <td>8929</td>\n",
       "      <td>90</td>\n",
       "      <td>Regular Day</td>\n",
       "      <td>Grammys + TRA</td>\n",
       "      <td>0</td>\n",
       "    </tr>\n",
       "    <tr>\n",
       "      <th>4</th>\n",
       "      <td>1/5/2017</td>\n",
       "      <td>12234</td>\n",
       "      <td>28288</td>\n",
       "      <td>12990</td>\n",
       "      <td>8105</td>\n",
       "      <td>95</td>\n",
       "      <td>Regular Day</td>\n",
       "      <td>Grammys + TRA</td>\n",
       "      <td>0</td>\n",
       "    </tr>\n",
       "  </tbody>\n",
       "</table>\n",
       "</div>"
      ],
      "text/plain": [
       "       date  visitors  pageviews  sessions  bounced_sessions  \\\n",
       "0  1/1/2017      9611      21407     10196              6490   \n",
       "1  1/2/2017     10752      25658     11350              7055   \n",
       "2  1/3/2017     11425      27062     12215              7569   \n",
       "3  1/4/2017     13098      29189     13852              8929   \n",
       "4  1/5/2017     12234      28288     12990              8105   \n",
       "\n",
       "   avg_session_duration_secs   event_type website_content  mobile_visitors  \n",
       "0                         86  Regular Day   Grammys + TRA                0  \n",
       "1                        100  Regular Day   Grammys + TRA                0  \n",
       "2                         92  Regular Day   Grammys + TRA                0  \n",
       "3                         90  Regular Day   Grammys + TRA                0  \n",
       "4                         95  Regular Day   Grammys + TRA                0  "
      ]
     },
     "execution_count": 7,
     "metadata": {},
     "output_type": "execute_result"
    }
   ],
   "source": [
    "# Do the same procedure as the code cell above, but instead make sure the observations in \"website_content\" is equal to Grammys + TRA.\n",
    "df_gram_tra = df_gram[df_gram[\"website_content\"] == \"Grammys + TRA\"]\n",
    "\n",
    "df_gram_tra.head()"
   ]
  },
  {
   "cell_type": "markdown",
   "id": "149e2f82-a86a-4683-b865-88afb6f0b104",
   "metadata": {},
   "source": [
    "I did the same process as in the \"Grammys\" section."
   ]
  },
  {
   "cell_type": "markdown",
   "id": "201028b8-604a-4345-9fb9-c65533c80197",
   "metadata": {},
   "source": [
    "### Variables in the Grammys & TRA dataframe columns\n",
    "\n",
    "This section will define the meaning of each columns in the dataframe, commonly refered to as a \"Data Dictionary\". The original data source contained a data dictionary, and I've incorporated the information into this project.\n",
    "\n",
    "**-date:** The date of the recorded website activity.\n",
    "\n",
    "**-visitors:** The number of unique visitors to the website on a given day.\n",
    "\n",
    "**-pageviews:** The total number of pages viewed by all visitors.\n",
    "\n",
    "**-sessions:** The total number of browsing sessions initiated by visitors.\n",
    "\n",
    "**-bounced_sessions:** The number of sessions where the user left the site without interacting.\n",
    "\n",
    "**-avg_session_duration_secs:** The average length of a session in seconds.\n",
    "\n",
    "**-event_type:** The type of event occurring on that date (e.g., Grammy Awards, nominee announcements).\n",
    "\n",
    "**-website_content:** The type of content hosted on the website that day (e.g., \"Grammys\" or \"Grammys + TRA\").\n",
    "\n",
    "**-mobile_visitors:** The number of visitors accessing the website from a mobile device.\n",
    "\n",
    "**NOTE:** The TRA dataframe does not have all these columns, but any overlapping columns from the TRA has the same definitions as defined above."
   ]
  },
  {
   "cell_type": "markdown",
   "id": "449fa188-e548-4c48-a602-b6825fb317a3",
   "metadata": {},
   "source": [
    "## Exploratory Data Analysis\n",
    "\n",
    "When talking about websites, it is very hard to not think about the users who would use the websites. Of course the website owners will always be curious if their website is doing well or not. One way of measuring this, is by gauging the \"user's engagement\". If we can somehow find a good metric/metrics, then measuring user engagement wouldn't be too hard. By analyzing user's engagement, we can compare different websites and find which one does \"better\" than the other. This allows us to have more information about the website and if we should study from the other websites(if they are doing better). So, let's start our analysis process and see if we can analyze user's engagement."
   ]
  },
  {
   "cell_type": "markdown",
   "id": "022d5815-749f-439d-8d0f-8220909518d8",
   "metadata": {},
   "source": [
    "### Average bounced sessions proportion\n",
    "\n",
    "After looking at the dataframe, there's a variable that really stood out to me which is the `bounced_sessions`variable. I was curious about the average proportions of `bounced_sessions` after the website split. Did grammy.com website had lower average `bounced_sessions` proportions after the split, and does TRA's website has lower average `bounced_sessions` proportion or no?"
   ]
  },
  {
   "cell_type": "code",
   "execution_count": 8,
   "id": "69f3bc1b-84b4-4244-b71a-d6ecc4dedb28",
   "metadata": {},
   "outputs": [
    {
     "name": "stdout",
     "output_type": "stream",
     "text": [
      "The average bounced sessions proportion when the website content is Grammys + TRA is 0.4975.\n",
      "The average bounced sessions proportion when the website content is Grammy is 0.4753.\n",
      "The average bounced sessions proportion when the website content is TRA is 0.3929.\n"
     ]
    }
   ],
   "source": [
    "# Calculating the average bounced sessions proportion in Grammys + TRA, Grammys, and TRA.\n",
    "avg_bounced_prop_gramtra = np.mean(df_gram_tra[\"bounced_sessions\"] / df_gram_tra[\"sessions\"])\n",
    "avg_bounced_prop_gram = np.mean(df_gram_notra[\"bounced_sessions\"] / df_gram_notra[\"sessions\"])\n",
    "avg_bounced_prop_tra = np.mean(df_tra[\"bounced_sessions\"] / df_tra[\"sessions\"])\n",
    "\n",
    "print(f\"The average bounced sessions proportion when the website content is Grammys + TRA is {avg_bounced_prop_gramtra:0.4f}.\")\n",
    "print(f\"The average bounced sessions proportion when the website content is Grammy is {avg_bounced_prop_gram:0.4f}.\")\n",
    "print(f\"The average bounced sessions proportion when the website content is TRA is {avg_bounced_prop_tra:0.4f}.\")"
   ]
  },
  {
   "cell_type": "markdown",
   "id": "0e3b543d-6260-4fad-862e-a979e0fbef31",
   "metadata": {},
   "source": [
    "I used average bounced sessions proportions as a metric because I wanted to figure out how frequently users left the website without any interactions, relative to the overall sessions. And since everyday, the bounced sessions proportion would be different, I just took an average from all bounced sessions proportions to get a general sense of user engagement.\n",
    "\n",
    "Now this result seems interesting, it seems like after the split, less people are bouncing off the website on both Grammys and TRA. However, it's important to note that there's only 1 year worth of post-split data, while there are 5 years worth of pre-split. Therefore, this imbalance in the time period may introduce bias. Because of this, I decided to focus my data analysis in the post-split period. This allows for a more balanced and fair comparison.\n",
    "\n",
    "With that in mind, TRA has less bounced sessions than Grammy after the split, despite both originally being part of the same platform. This raises some compelling questions. Why would that be the case? Maybe TRA improved its website and content management? Maybe TRA's content is more specific to highly interested audience? Perhaps, Grammy site still retained older design while TRA has adapted new design that is more engaging and interactive? These are all questions that came to me, once I saw this data."
   ]
  },
  {
   "cell_type": "markdown",
   "id": "a3515182-f8f2-4d63-8764-cd450677450f",
   "metadata": {},
   "source": [
    "### Average Pages Per Session\n",
    "\n",
    "That said, average bounced sessions is only one metric for measuring user's engagement. Although users bounced less in TRA, it doesn't necessarily means they were being highly engaged in the website, they could've clicked one page and left. In addition, I wanted to know how long users are staying on the site. For instance, if the users were to go the website, and just start clicking on every pages rapidly, this does not equate to having meaningful engagement. Therefore, by using `avg_duration_sessions_secs`, `pageviews`, and `sessions`. We could have another metric that could either complement our findings so far, or introduces us a new perspective."
   ]
  },
  {
   "cell_type": "markdown",
   "id": "736583b0-27f6-44fe-a527-c1d9595142bc",
   "metadata": {},
   "source": [
    "Let's start by introducing a new metric: pages per session. I want to calculate the pages per session on each day to understand how active users were in interacting with the pages. Moreover, I will plot the pages per session relative to average sessions durations(in seconds). By doing so, we can see users' behavior on the website whether users are quickly clicking through pages or spending more time engaging with the contents on each page."
   ]
  },
  {
   "cell_type": "code",
   "execution_count": 9,
   "id": "0929ebd9-4fd0-4770-80a6-31fc80741acc",
   "metadata": {},
   "outputs": [],
   "source": [
    "# Divide the pageviews column by sessions column in both Grammy and TRA dataframes.\n",
    "pps_gram = df_gram_notra[\"pageviews\"] / df_gram_notra[\"sessions\"]\n",
    "pps_tra = df_tra[\"pageviews\"] / df_tra[\"sessions\"]"
   ]
  },
  {
   "cell_type": "markdown",
   "id": "7aab031b-e175-43e1-8cd4-f915dd539a4f",
   "metadata": {},
   "source": [
    "I calculated the pages per session by dividing the `pageviews` column by `sessions` column. When dividing a column from a dataframe by another column in `Pandas`, you will get a \"Series\" which is similar to a `NumPy` array. This allows me to do mathematical calculations and plotting with the series.\n",
    "\n",
    "However, before we start plotting with our pages per session, let's first examine at the average of pages per sessions for each of the post-split websites. This way we could validate information about the plot and gain more insights from the data."
   ]
  },
  {
   "cell_type": "code",
   "execution_count": 10,
   "id": "ddc00982-89e3-459e-bc37-47d041493c86",
   "metadata": {},
   "outputs": [
    {
     "name": "stdout",
     "output_type": "stream",
     "text": [
      "The average pages per session of Grammy website is 2.1383.\n",
      "The average pages per session of TRA website is 2.7834.\n"
     ]
    }
   ],
   "source": [
    "# Find the average by using np.mean() and put the series from previous code as an argument.\n",
    "avg_pps_gram = np.mean(pps_gram)\n",
    "avg_pps_tra = np.mean(pps_tra)\n",
    "\n",
    "print(f\"The average pages per session of Grammy website is {avg_pps_gram:0.4f}.\")\n",
    "print(f\"The average pages per session of TRA website is {avg_pps_tra:0.4f}.\")"
   ]
  },
  {
   "cell_type": "markdown",
   "id": "15658557-b4fd-45b9-a4e1-1868e7bad601",
   "metadata": {},
   "source": [
    "I calculated the average by taking the mean of both series from the previous code cells and store in their respective variables."
   ]
  },
  {
   "cell_type": "markdown",
   "id": "fe11ba32-d4ef-4b7a-b7ae-5ebd69e7087b",
   "metadata": {},
   "source": [
    "Based on the preliminary comparison from the average pages per session of two websites, users appears to be more active on TRA's website when compared to Grammy's website. Although the TRA website seems to have 0.6 more average pages per session than Grammy website, which might not seem like a significant difference, but that is not the case. Looking at our earlier tables, our pageviews and sessions are mostly in tens of thousands which means that a 0.6 difference can represent a substantial increase in user duration."
   ]
  },
  {
   "cell_type": "markdown",
   "id": "2809c12d-9176-44b0-b6ce-51387f8b74f3",
   "metadata": {},
   "source": [
    "### Pages Per Session & Average Session Duration\n",
    "\n",
    "So far we have accounted for bounced sessions and pages per session as indicators of user engagement. However, we can still further enhance our engagement metric. Currently, we still don't know if users are just in the website for a short time while clicking through all the pages, or the users are actually spending time and looking at the pages. To address this issue, we need to use another variable to help with this which is average session duration(in seconds). \n",
    "\n",
    "In my opinion, the most effective way to visualize this is by creating a scatter plot of pages per session and average session duration. This allows us to observe how much time users spend on the website relative to number of pages they view."
   ]
  },
  {
   "cell_type": "code",
   "execution_count": 23,
   "id": "c895c95b-cc37-410e-b109-752dca1281fd",
   "metadata": {},
   "outputs": [
    {
     "data": {
      "image/png": "[encoded data removed]",
      "text/plain": [
       "<Figure size 640x480 with 1 Axes>"
      ]
     },
     "metadata": {},
     "output_type": "display_data"
    }
   ],
   "source": [
    "plt.scatter(pps_gram, df_gram_notra[\"avg_session_duration_secs\"])\n",
    "plt.title(\"Pages Per Session & Average Session Duration (Grammy)\")\n",
    "plt.xlabel(\"Pages Per Session (PPS)\")\n",
    "plt.ylabel(\"Average Session Duration (seconds)\")\n",
    "plt.ylim(0, 300)\n",
    "plt.show()"
   ]
  },
  {
   "cell_type": "code",
   "execution_count": 24,
   "id": "8ccb5c75-dd22-487e-8b76-ac7d212ef188",
   "metadata": {},
   "outputs": [
    {
     "data": {
      "image/png": "[encoded data removed]",
      "text/plain": [
       "<Figure size 640x480 with 1 Axes>"
      ]
     },
     "metadata": {},
     "output_type": "display_data"
    }
   ],
   "source": [
    "plt.scatter(pps_tra, df_tra[\"avg_session_duration_secs\"])\n",
    "plt.title(\"Pages Per Session & Average Session Duration (TRA)\")\n",
    "plt.xlabel(\"Pages Per Session (PPS)\")\n",
    "plt.ylabel(\"Average Session Duration (seconds)\")\n",
    "plt.yticks(np.arange(0,1400,100))\n",
    "plt.show()"
   ]
  },
  {
   "cell_type": "markdown",
   "id": "a4a2dc9d-ca16-4f1f-8b29-979872b94da0",
   "metadata": {},
   "source": [
    "When comparing the pages per session, and the average duration of sessions of both Grammy and TRA websites, TRA seems to have higher user engagement based on the metrics. \n",
    "\n",
    "In the scatterplot, Grammy has a cluster starting from 50 to around 150, and the rest are outliers, while TRA has more clusters around 100 than Grammy, and it goes from around 100 to 200. Which suggests that TRA has more engagement than Grammy. This suggests that user spends more time per session on the TRA website.\n",
    "\n",
    "Additionally, if you recall, the average pages per session is higher for TRA than for Grammy, further indicating that TRA is more effective at engaging its visitors."
   ]
  },
  {
   "cell_type": "markdown",
   "id": "d9c9f122-810f-46fe-9be7-c2d8f11985b0",
   "metadata": {},
   "source": [
    "The difference in engagement that TRA does better in keeping the visitors more engaged. Grammy may have implemented other techniques on TRA website. This suggests that for the Grammy website, they should study what TRA did differently in their website, maybe the themes, the fonts, the buttons, the accessibility, the dashboard etc. They should study on this and see what they did differently from Grammy, for users to be more engaged in the TRA website, despite deriving from the same company. Another point could also be the contents. Maybe the recording academy has different content than Grammy that makes people more engaged?"
   ]
  },
  {
   "cell_type": "markdown",
   "id": "ab82458b-3c3f-40de-8fdf-0fbf804cd0e6",
   "metadata": {},
   "source": [
    "### Grammy Awards Days\n",
    "\n",
    "Apart from those variables that are used for gauging user engagement, are there other variables that might influence the components of the engagement metric itself? While I was looking at other variables, I've noticed that the `event_type` column has 2 categories; Regular Day and Grammy Awards Day. \n",
    "This made me wonder, do these event types affect user behavior on website?\n",
    "\n",
    "In search for the answer, I've decided to create line plots of date against visitors to identify any interesting trends or spikes in the plot. I chose to focus on visitors because all the variables in the metric; `bounced_sessions`, `sessions`, and `avg_duration_session_secs` are all user actions. Therefore, if there are any noticeable change in visitors, then it's likely that the variables used in the metric would change drastically in relation to the number of visitors.\n",
    "\n",
    "So, let's create some line plots of visitors over time!"
   ]
  },
  {
   "cell_type": "code",
   "execution_count": 13,
   "id": "4e83131b-5e24-413a-b775-cc1d1bdd46bb",
   "metadata": {},
   "outputs": [
    {
     "data": {
      "image/png": "[encoded data removed]",
      "text/plain": [
       "<Figure size 640x480 with 1 Axes>"
      ]
     },
     "metadata": {},
     "output_type": "display_data"
    }
   ],
   "source": [
    "# Same process as the line plot for Grammys + TRA, but this is for Grammys only.\n",
    "plt.plot(df_gram_notra[\"date\"], df_gram_notra[\"visitors\"])\n",
    "plt.xticks([]) \n",
    "plt.title(\"Site visitors count against each day (Grammys)\")\n",
    "plt.xlabel(\"Date\")\n",
    "plt.ylabel(\"Site visitors\")\n",
    "plt.show()"
   ]
  },
  {
   "cell_type": "code",
   "execution_count": 14,
   "id": "b1ef1f7d-d915-4b8a-bc71-13a57a2b9a53",
   "metadata": {},
   "outputs": [
    {
     "data": {
      "text/html": [
       "<div>\n",
       "<style scoped>\n",
       "    .dataframe tbody tr th:only-of-type {\n",
       "        vertical-align: middle;\n",
       "    }\n",
       "\n",
       "    .dataframe tbody tr th {\n",
       "        vertical-align: top;\n",
       "    }\n",
       "\n",
       "    .dataframe thead th {\n",
       "        text-align: right;\n",
       "    }\n",
       "</style>\n",
       "<table border=\"1\" class=\"dataframe\">\n",
       "  <thead>\n",
       "    <tr style=\"text-align: right;\">\n",
       "      <th></th>\n",
       "      <th>date</th>\n",
       "      <th>visitors</th>\n",
       "      <th>pageviews</th>\n",
       "      <th>sessions</th>\n",
       "      <th>bounced_sessions</th>\n",
       "      <th>avg_session_duration_secs</th>\n",
       "      <th>event_type</th>\n",
       "      <th>website_content</th>\n",
       "      <th>mobile_visitors</th>\n",
       "    </tr>\n",
       "  </thead>\n",
       "  <tbody>\n",
       "    <tr>\n",
       "      <th>1918</th>\n",
       "      <td>4/3/2022</td>\n",
       "      <td>2232007</td>\n",
       "      <td>7344507</td>\n",
       "      <td>3086640</td>\n",
       "      <td>1300402</td>\n",
       "      <td>130</td>\n",
       "      <td>Grammy Awards</td>\n",
       "      <td>Grammys</td>\n",
       "      <td>1751415</td>\n",
       "    </tr>\n",
       "    <tr>\n",
       "      <th>2144</th>\n",
       "      <td>11/15/2022</td>\n",
       "      <td>700437</td>\n",
       "      <td>2214758</td>\n",
       "      <td>839192</td>\n",
       "      <td>321411</td>\n",
       "      <td>94</td>\n",
       "      <td>Grammy Awards</td>\n",
       "      <td>Grammys</td>\n",
       "      <td>550739</td>\n",
       "    </tr>\n",
       "    <tr>\n",
       "      <th>2226</th>\n",
       "      <td>2/5/2023</td>\n",
       "      <td>2824595</td>\n",
       "      <td>7895521</td>\n",
       "      <td>3470476</td>\n",
       "      <td>841244</td>\n",
       "      <td>284</td>\n",
       "      <td>Grammy Awards</td>\n",
       "      <td>Grammys</td>\n",
       "      <td>2278580</td>\n",
       "    </tr>\n",
       "  </tbody>\n",
       "</table>\n",
       "</div>"
      ],
      "text/plain": [
       "            date  visitors  pageviews  sessions  bounced_sessions  \\\n",
       "1918    4/3/2022   2232007    7344507   3086640           1300402   \n",
       "2144  11/15/2022    700437    2214758    839192            321411   \n",
       "2226    2/5/2023   2824595    7895521   3470476            841244   \n",
       "\n",
       "      avg_session_duration_secs     event_type website_content  \\\n",
       "1918                        130  Grammy Awards         Grammys   \n",
       "2144                         94  Grammy Awards         Grammys   \n",
       "2226                        284  Grammy Awards         Grammys   \n",
       "\n",
       "      mobile_visitors  \n",
       "1918          1751415  \n",
       "2144           550739  \n",
       "2226          2278580  "
      ]
     },
     "execution_count": 14,
     "metadata": {},
     "output_type": "execute_result"
    }
   ],
   "source": [
    "# Check if the number of spikes in the graph corresponds to the number of Grammy Awards day in their respective dataframe.\n",
    "filtered_gram_notra = df_gram_notra[df_gram_notra[\"event_type\"] != \"Regular Day\"]\n",
    "filtered_gram_notra"
   ]
  },
  {
   "cell_type": "code",
   "execution_count": 15,
   "id": "17d8326d-5f62-486d-b0d2-bbb1cbbc6a7b",
   "metadata": {},
   "outputs": [
    {
     "data": {
      "image/png": "[encoded data removed]",
      "text/plain": [
       "<Figure size 640x480 with 1 Axes>"
      ]
     },
     "metadata": {},
     "output_type": "display_data"
    }
   ],
   "source": [
    "# Same process as the line plot for Grammys + TRA, but this is for TRA only.\n",
    "plt.plot(df_tra[\"date\"], df_tra[\"visitors\"])\n",
    "plt.xticks([]) \n",
    "plt.title(\"Site visitors count against each day (TRA)\")\n",
    "plt.xlabel(\"Date\")\n",
    "plt.ylabel(\"Site visitors\")\n",
    "plt.show()"
   ]
  },
  {
   "cell_type": "code",
   "execution_count": 16,
   "id": "80a4823e-af88-4054-a120-a41550720de3",
   "metadata": {},
   "outputs": [
    {
     "data": {
      "text/html": [
       "<div>\n",
       "<style scoped>\n",
       "    .dataframe tbody tr th:only-of-type {\n",
       "        vertical-align: middle;\n",
       "    }\n",
       "\n",
       "    .dataframe tbody tr th {\n",
       "        vertical-align: top;\n",
       "    }\n",
       "\n",
       "    .dataframe thead th {\n",
       "        text-align: right;\n",
       "    }\n",
       "</style>\n",
       "<table border=\"1\" class=\"dataframe\">\n",
       "  <thead>\n",
       "    <tr style=\"text-align: right;\">\n",
       "      <th></th>\n",
       "      <th>date</th>\n",
       "      <th>year</th>\n",
       "      <th>visitors</th>\n",
       "      <th>pageviews</th>\n",
       "      <th>sessions</th>\n",
       "      <th>bounced_sessions</th>\n",
       "      <th>avg_session_duration_secs</th>\n",
       "    </tr>\n",
       "  </thead>\n",
       "  <tbody>\n",
       "    <tr>\n",
       "      <th>61</th>\n",
       "      <td>4/3/2022</td>\n",
       "      <td>2022</td>\n",
       "      <td>65411</td>\n",
       "      <td>114987</td>\n",
       "      <td>70782</td>\n",
       "      <td>49152</td>\n",
       "      <td>53</td>\n",
       "    </tr>\n",
       "    <tr>\n",
       "      <th>287</th>\n",
       "      <td>11/15/2022</td>\n",
       "      <td>2022</td>\n",
       "      <td>21558</td>\n",
       "      <td>73647</td>\n",
       "      <td>23876</td>\n",
       "      <td>1968</td>\n",
       "      <td>69</td>\n",
       "    </tr>\n",
       "    <tr>\n",
       "      <th>369</th>\n",
       "      <td>2/5/2023</td>\n",
       "      <td>2023</td>\n",
       "      <td>65106</td>\n",
       "      <td>180432</td>\n",
       "      <td>69413</td>\n",
       "      <td>15202</td>\n",
       "      <td>56</td>\n",
       "    </tr>\n",
       "  </tbody>\n",
       "</table>\n",
       "</div>"
      ],
      "text/plain": [
       "           date  year  visitors  pageviews  sessions  bounced_sessions  \\\n",
       "61     4/3/2022  2022     65411     114987     70782             49152   \n",
       "287  11/15/2022  2022     21558      73647     23876              1968   \n",
       "369    2/5/2023  2023     65106     180432     69413             15202   \n",
       "\n",
       "     avg_session_duration_secs  \n",
       "61                          53  \n",
       "287                         69  \n",
       "369                         56  "
      ]
     },
     "execution_count": 16,
     "metadata": {},
     "output_type": "execute_result"
    }
   ],
   "source": [
    "# TRA dataframe does not have an \"event_type\" column, but that is not a problem. \n",
    "# Because we know that Grammy Awards appear the same days for TRA and Grammys.\n",
    "# If we investigate the values of the spikes, and the date is the same as the Grammy Awards in Grammys dataframe, \n",
    "# then we'll know that this is the Grammy Awards date.\n",
    "\n",
    "# I filtered for visitors that are more than 40000, then I compare with the dates from Grammys and they were matching, but a row was missing. \n",
    "# So, I manually selected that date for that row, so we can compare the Grammy Awards day on TRA dataframe and Grammys dataframe.\n",
    "filtered_tra = df_tra[(df_tra[\"visitors\"] > 40000) | (df_tra[\"date\"] == \"11/15/2022\")]\n",
    "filtered_tra"
   ]
  },
  {
   "cell_type": "markdown",
   "id": "c92c322c-2af2-4f31-be6f-5f28057871d1",
   "metadata": {},
   "source": [
    "As we can see, when comparing the dataframe containing special event days and the line plot, the number of Grammy Awards days align with the noticable spikes in visitors numbers. This suggests that on Grammy Awards days, users tends to visit the site more frequently, both on Grammy and TRA websites. That means that the variables used in the engagement metric were also affected. \n",
    "\n",
    "This further support the decision of using only Grammy and TRA dataframes. Because if I were to use Grammy + TRA data to compare and make calculations on, there would definitely be imbalance due to the number of Grammy Awards days. In addition, we definitely got some useful insights from this finding. Now we know that there is also the factor of \"Grammy Awards\" days in play and we could potentially utilize this information to help Grammy do better with their website as well."
   ]
  },
  {
   "cell_type": "markdown",
   "id": "13ba8a85-8056-4aff-bca9-ec93037257f2",
   "metadata": {},
   "source": [
    "Apart from that, an interesting thing we can do is comparing the metric in Grammy Awards day on both post-split websites and see which website does better in general on Grammy Awards day."
   ]
  },
  {
   "cell_type": "code",
   "execution_count": 17,
   "id": "b5febd1e-ad7e-4628-b3d8-c7b4955a365b",
   "metadata": {},
   "outputs": [
    {
     "name": "stdout",
     "output_type": "stream",
     "text": [
      "The average pageviews per session during Grammys website on Grammy Awards day is 2.4312.\n",
      "The average bounced_session proportion during Grammys website on Grammy Awards day is 0.3489.\n",
      "The average duration per session(in seconds) during Grammys website on Grammy Awards day is 169.3333.\n",
      "The average visitors on Grammys website during Grammy Awards day is 1919013.0000.\n",
      "\n",
      "\n",
      "The average pageviews per session during TRA website on Grammy Awards day is 2.4362.\n",
      "The average bounced_session proportion during TRA website on Grammy Awards day is 0.3319.\n",
      "The average duration per session(in seconds) during TRA website on Grammy Awards day is 59.3333.\n",
      "The average visitors on TRA website during Grammy Awards day is 50691.6667.\n"
     ]
    }
   ],
   "source": [
    "avg_fil_gram_notra_pps = np.mean(filtered_gram_notra[\"pageviews\"] / filtered_gram_notra[\"sessions\"])\n",
    "avg_fil_gram_notra_bounced_prop = np.mean(filtered_gram_notra[\"bounced_sessions\"] / filtered_gram_notra[\"sessions\"])\n",
    "avg_fil_gram_notra_dur = np.mean(filtered_gram_notra[\"avg_session_duration_secs\"])\n",
    "avg_fil_gram_notra_visitors = np.mean(filtered_gram_notra[\"visitors\"])\n",
    "\n",
    "avg_fil_tra_pps = np.mean(filtered_tra[\"pageviews\"] / filtered_tra[\"sessions\"])\n",
    "avg_fil_tra_bounced_prop = np.mean(filtered_tra[\"bounced_sessions\"] / filtered_tra[\"sessions\"])\n",
    "avg_fil_tra_dur = np.mean(filtered_tra[\"avg_session_duration_secs\"])\n",
    "avg_fil_tra_visitors = np.mean(filtered_tra[\"visitors\"])\n",
    "\n",
    "print(f\"The average pageviews per session during Grammys website on Grammy Awards day is {avg_fil_gram_notra_pps:0.4f}.\")\n",
    "print(f\"The average bounced_session proportion during Grammys website on Grammy Awards day is {avg_fil_gram_notra_bounced_prop:0.4f}.\")\n",
    "print(f\"The average duration per session(in seconds) during Grammys website on Grammy Awards day is {avg_fil_gram_notra_dur:0.4f}.\")\n",
    "print(f\"The average visitors on Grammys website during Grammy Awards day is {avg_fil_gram_notra_visitors:0.4f}.\")\n",
    "\n",
    "print(\"\\n\")\n",
    "\n",
    "print(f\"The average pageviews per session during TRA website on Grammy Awards day is {avg_fil_tra_pps:0.4f}.\")\n",
    "print(f\"The average bounced_session proportion during TRA website on Grammy Awards day is {avg_fil_tra_bounced_prop:0.4f}.\")\n",
    "print(f\"The average duration per session(in seconds) during TRA website on Grammy Awards day is {avg_fil_tra_dur:0.4f}.\")\n",
    "print(f\"The average visitors on TRA website during Grammy Awards day is {avg_fil_tra_visitors:0.4f}.\")"
   ]
  },
  {
   "cell_type": "markdown",
   "id": "3eb0de78-1645-4331-8556-6e0288653570",
   "metadata": {},
   "source": [
    "Interestingly the values of average pageviews per session(PPS) and average bounced sessions proportion(BSP) on both websites are very similar across both websites, with differences small enough to be ignored. However the Grammy website, has more site visitors and the duration per session than the TRA website. \n",
    "\n",
    "Considering both websites have similar values of average PPS and BSP, this indicates that the Grammy website does better than TRA website on Grammy Awards days. Due to the fact that the Grammy website had more visitors, and duration per session than TRA while retaining similar values on PPS and BSP. \n",
    "\n",
    "This suggests 2 possible explanations: either Grammy website had good techniques on retaining users and keeping the users engaged, or users are simply visiting the website—to check winners, highlights, red carpet coverage, and other event-related content."
   ]
  },
  {
   "cell_type": "markdown",
   "id": "edcc24b9-1d2b-4f48-997d-579f552c63b0",
   "metadata": {},
   "source": [
    "All in all, we can summarize that although TRA has performed better overall on user engagement metric, the Grammy website performs better than the TRA website on Grammy Awards day —likely due to its content, techniques, and strategies."
   ]
  },
  {
   "cell_type": "markdown",
   "id": "ade50e04-890c-478f-a186-a4927edd9b2b",
   "metadata": {},
   "source": [
    "### Outliers\n",
    "\n",
    "In our earlier analysis, in the PPS against Average Session Duration scatter plot, most of the data points are all bundled up in the bottom left. However, there are some data points that are not in the cluster, in fact, the points are really far from the cluster. We call these points \"outliers\". And these outliers are definitely worth investigating because I want to know what caused the outliers to happen, or when did they even happen?\n",
    "\n",
    "In this section, I will focus on identifying when these outliers occurred and, if possible, uncovering the reasons behind them. By understanding the cause of the outliers, it could provide valuable insights into user behaviors or external factors that influenced the data.\n",
    "\n",
    "Let’s begin the outliers investigation!"
   ]
  },
  {
   "cell_type": "code",
   "execution_count": 25,
   "id": "6914cd08-6d31-44af-acd7-b2a7b0754b62",
   "metadata": {},
   "outputs": [
    {
     "data": {
      "image/png": "[encoded data removed]",
      "text/plain": [
       "<Figure size 640x480 with 1 Axes>"
      ]
     },
     "metadata": {},
     "output_type": "display_data"
    }
   ],
   "source": [
    "# I pasted this code, so you don't have to scroll up to look at the plot again.\n",
    "plt.scatter(pps_gram, df_gram_notra[\"avg_session_duration_secs\"])\n",
    "plt.title(\"Pages Per Session & Average Session Duration (Grammy)\")\n",
    "plt.xlabel(\"Pages Per Session (PPS)\")\n",
    "plt.ylabel(\"Average Session Duration (seconds)\")\n",
    "plt.ylim(0, 300)\n",
    "plt.show()"
   ]
  },
  {
   "cell_type": "code",
   "execution_count": 28,
   "id": "2e445bdf-6abe-43e8-8d4b-787e82557090",
   "metadata": {},
   "outputs": [
    {
     "data": {
      "text/html": [
       "<div>\n",
       "<style scoped>\n",
       "    .dataframe tbody tr th:only-of-type {\n",
       "        vertical-align: middle;\n",
       "    }\n",
       "\n",
       "    .dataframe tbody tr th {\n",
       "        vertical-align: top;\n",
       "    }\n",
       "\n",
       "    .dataframe thead th {\n",
       "        text-align: right;\n",
       "    }\n",
       "</style>\n",
       "<table border=\"1\" class=\"dataframe\">\n",
       "  <thead>\n",
       "    <tr style=\"text-align: right;\">\n",
       "      <th></th>\n",
       "      <th>date</th>\n",
       "      <th>visitors</th>\n",
       "      <th>pageviews</th>\n",
       "      <th>sessions</th>\n",
       "      <th>bounced_sessions</th>\n",
       "      <th>avg_session_duration_secs</th>\n",
       "      <th>event_type</th>\n",
       "      <th>website_content</th>\n",
       "      <th>mobile_visitors</th>\n",
       "    </tr>\n",
       "  </thead>\n",
       "  <tbody>\n",
       "    <tr>\n",
       "      <th>2207</th>\n",
       "      <td>1/17/2023</td>\n",
       "      <td>23291</td>\n",
       "      <td>145866</td>\n",
       "      <td>25791</td>\n",
       "      <td>5587</td>\n",
       "      <td>113</td>\n",
       "      <td>Regular Day</td>\n",
       "      <td>Grammys</td>\n",
       "      <td>13904</td>\n",
       "    </tr>\n",
       "    <tr>\n",
       "      <th>2208</th>\n",
       "      <td>1/18/2023</td>\n",
       "      <td>25933</td>\n",
       "      <td>170210</td>\n",
       "      <td>28848</td>\n",
       "      <td>4602</td>\n",
       "      <td>137</td>\n",
       "      <td>Regular Day</td>\n",
       "      <td>Grammys</td>\n",
       "      <td>16311</td>\n",
       "    </tr>\n",
       "    <tr>\n",
       "      <th>2209</th>\n",
       "      <td>1/19/2023</td>\n",
       "      <td>27785</td>\n",
       "      <td>183587</td>\n",
       "      <td>31964</td>\n",
       "      <td>4105</td>\n",
       "      <td>117</td>\n",
       "      <td>Regular Day</td>\n",
       "      <td>Grammys</td>\n",
       "      <td>18633</td>\n",
       "    </tr>\n",
       "    <tr>\n",
       "      <th>2210</th>\n",
       "      <td>1/20/2023</td>\n",
       "      <td>26096</td>\n",
       "      <td>125693</td>\n",
       "      <td>29251</td>\n",
       "      <td>5146</td>\n",
       "      <td>103</td>\n",
       "      <td>Regular Day</td>\n",
       "      <td>Grammys</td>\n",
       "      <td>17152</td>\n",
       "    </tr>\n",
       "    <tr>\n",
       "      <th>2226</th>\n",
       "      <td>2/5/2023</td>\n",
       "      <td>2824595</td>\n",
       "      <td>7895521</td>\n",
       "      <td>3470476</td>\n",
       "      <td>841244</td>\n",
       "      <td>284</td>\n",
       "      <td>Grammy Awards</td>\n",
       "      <td>Grammys</td>\n",
       "      <td>2278580</td>\n",
       "    </tr>\n",
       "  </tbody>\n",
       "</table>\n",
       "</div>"
      ],
      "text/plain": [
       "           date  visitors  pageviews  sessions  bounced_sessions  \\\n",
       "2207  1/17/2023     23291     145866     25791              5587   \n",
       "2208  1/18/2023     25933     170210     28848              4602   \n",
       "2209  1/19/2023     27785     183587     31964              4105   \n",
       "2210  1/20/2023     26096     125693     29251              5146   \n",
       "2226   2/5/2023   2824595    7895521   3470476            841244   \n",
       "\n",
       "      avg_session_duration_secs     event_type website_content  \\\n",
       "2207                        113    Regular Day         Grammys   \n",
       "2208                        137    Regular Day         Grammys   \n",
       "2209                        117    Regular Day         Grammys   \n",
       "2210                        103    Regular Day         Grammys   \n",
       "2226                        284  Grammy Awards         Grammys   \n",
       "\n",
       "      mobile_visitors  \n",
       "2207            13904  \n",
       "2208            16311  \n",
       "2209            18633  \n",
       "2210            17152  \n",
       "2226          2278580  "
      ]
     },
     "execution_count": 28,
     "metadata": {},
     "output_type": "execute_result"
    }
   ],
   "source": [
    "# I pinpointed the outliers in the data frame by using the distinguish features from the plot. \n",
    "# For this one, I noticed there's an outlier that has average duration session more than 250 and the other outliers have PPS more than 4.\n",
    "outliers_gram = df_gram_notra[(df_gram_notra[\"avg_session_duration_secs\"] > 250) | (pps_gram > 4)]\n",
    "outliers_gram"
   ]
  },
  {
   "cell_type": "code",
   "execution_count": 26,
   "id": "e07639a4-8277-496f-96ce-4b68b95bb9e0",
   "metadata": {},
   "outputs": [
    {
     "data": {
      "image/png": "[encoded data removed]",
      "text/plain": [
       "<Figure size 640x480 with 1 Axes>"
      ]
     },
     "metadata": {},
     "output_type": "display_data"
    }
   ],
   "source": [
    "plt.scatter(pps_tra, df_tra[\"avg_session_duration_secs\"])\n",
    "plt.title(\"Pages Per Session & Average Session Duration (TRA)\")\n",
    "plt.xlabel(\"Pages Per Session (PPS)\")\n",
    "plt.ylabel(\"Average Session Duration (seconds)\")\n",
    "plt.yticks(np.arange(0,1400,100))\n",
    "plt.show()"
   ]
  },
  {
   "cell_type": "code",
   "execution_count": 27,
   "id": "b79b0165-623d-496e-b6a0-c9d3732fed43",
   "metadata": {},
   "outputs": [
    {
     "data": {
      "text/html": [
       "<div>\n",
       "<style scoped>\n",
       "    .dataframe tbody tr th:only-of-type {\n",
       "        vertical-align: middle;\n",
       "    }\n",
       "\n",
       "    .dataframe tbody tr th {\n",
       "        vertical-align: top;\n",
       "    }\n",
       "\n",
       "    .dataframe thead th {\n",
       "        text-align: right;\n",
       "    }\n",
       "</style>\n",
       "<table border=\"1\" class=\"dataframe\">\n",
       "  <thead>\n",
       "    <tr style=\"text-align: right;\">\n",
       "      <th></th>\n",
       "      <th>date</th>\n",
       "      <th>year</th>\n",
       "      <th>visitors</th>\n",
       "      <th>pageviews</th>\n",
       "      <th>sessions</th>\n",
       "      <th>bounced_sessions</th>\n",
       "      <th>avg_session_duration_secs</th>\n",
       "    </tr>\n",
       "  </thead>\n",
       "  <tbody>\n",
       "    <tr>\n",
       "      <th>129</th>\n",
       "      <td>6/10/2022</td>\n",
       "      <td>2022</td>\n",
       "      <td>634</td>\n",
       "      <td>746</td>\n",
       "      <td>96</td>\n",
       "      <td>39</td>\n",
       "      <td>543</td>\n",
       "    </tr>\n",
       "    <tr>\n",
       "      <th>130</th>\n",
       "      <td>6/11/2022</td>\n",
       "      <td>2022</td>\n",
       "      <td>299</td>\n",
       "      <td>121</td>\n",
       "      <td>19</td>\n",
       "      <td>7</td>\n",
       "      <td>517</td>\n",
       "    </tr>\n",
       "    <tr>\n",
       "      <th>131</th>\n",
       "      <td>6/12/2022</td>\n",
       "      <td>2022</td>\n",
       "      <td>324</td>\n",
       "      <td>235</td>\n",
       "      <td>21</td>\n",
       "      <td>6</td>\n",
       "      <td>1269</td>\n",
       "    </tr>\n",
       "    <tr>\n",
       "      <th>132</th>\n",
       "      <td>6/13/2022</td>\n",
       "      <td>2022</td>\n",
       "      <td>497</td>\n",
       "      <td>582</td>\n",
       "      <td>62</td>\n",
       "      <td>14</td>\n",
       "      <td>707</td>\n",
       "    </tr>\n",
       "    <tr>\n",
       "      <th>133</th>\n",
       "      <td>6/14/2022</td>\n",
       "      <td>2022</td>\n",
       "      <td>742</td>\n",
       "      <td>2931</td>\n",
       "      <td>256</td>\n",
       "      <td>118</td>\n",
       "      <td>272</td>\n",
       "    </tr>\n",
       "    <tr>\n",
       "      <th>134</th>\n",
       "      <td>6/15/2022</td>\n",
       "      <td>2022</td>\n",
       "      <td>920</td>\n",
       "      <td>4471</td>\n",
       "      <td>824</td>\n",
       "      <td>477</td>\n",
       "      <td>199</td>\n",
       "    </tr>\n",
       "  </tbody>\n",
       "</table>\n",
       "</div>"
      ],
      "text/plain": [
       "          date  year  visitors  pageviews  sessions  bounced_sessions  \\\n",
       "129  6/10/2022  2022       634        746        96                39   \n",
       "130  6/11/2022  2022       299        121        19                 7   \n",
       "131  6/12/2022  2022       324        235        21                 6   \n",
       "132  6/13/2022  2022       497        582        62                14   \n",
       "133  6/14/2022  2022       742       2931       256               118   \n",
       "134  6/15/2022  2022       920       4471       824               477   \n",
       "\n",
       "     avg_session_duration_secs  \n",
       "129                        543  \n",
       "130                        517  \n",
       "131                       1269  \n",
       "132                        707  \n",
       "133                        272  \n",
       "134                        199  "
      ]
     },
     "execution_count": 27,
     "metadata": {},
     "output_type": "execute_result"
    }
   ],
   "source": [
    "# I pinpointed the outliers in the data frame by using the distinguish features from the plot. \n",
    "# For this one, I noticed the outliers have PPS more than 5.\n",
    "outliers_tra = df_tra[pps_tra > 5]\n",
    "outliers_tra"
   ]
  },
  {
   "cell_type": "markdown",
   "id": "a9000fe1-954d-4925-aa06-3cfa57eed1ad",
   "metadata": {},
   "source": [
    "Several outliers stood out during the analysis—both in the TRA and Grammys datasets— which demonstrated unusually high user engagement. Interestingly, there outliers aren't random, they are clustered within a short time period.\n",
    "\n",
    "**TRA Outliers:** The 6 outliers in TRA dataset all occured consecutively from June 10th to June 15th 2022 and are not related to Grammy Awards days. This raised the qustion of what could have caused the outlier to happen.\n",
    "\n",
    "**Grammy Outliers:** In the Grammy website, there are 5 outliers. Where 4 of the outliers are arranged from 17th January to 20th January 2023 and one of the outliers in Grammy website is related to Grammy Awards day. However, the outliers on Grammy Awards day, only had high average session duration , but not high PPS like other outliers. This could suggest that users just left the website open on Grammy Awards day without actively navigating through the website. However, the reason for the high engagement during the January 17–20 is still not clear, and would require further investigation to identify the cause."
   ]
  },
  {
   "cell_type": "markdown",
   "id": "23b33b2c-6c7a-42ce-89c4-aa09c2e4771d",
   "metadata": {},
   "source": [
    "**FOR TRA:**\r\n",
    "\r\n",
    "Afr teconducting research wing Google's At hech, it seems like there were se omimportant announcemesms on 10th June 202 The announcements s that I thoug tamey have impa onct the visitors were the deadline of \"Your future is now\" scholarship program, updated to guidelines, rules, and eligibility for Album of the year and the \"Dance\" category, and 2022 Grammy Awards date & venue. I believe these programs are what caused the duration and more pages per session during those consecutive days. Because the announcement started on 10th June, so it would make sense for some of the following days to have impact as well."
   ]
  },
  {
   "cell_type": "markdown",
   "id": "c9139b2b-c955-4521-a7cb-5e0b61d6cf19",
   "metadata": {},
   "source": [
    "**FOR GRAMMYS:**\r\n",
    "\r\n",
    "Unfortunately, wasn't able to find hn explanation forut why the pageviews per sessions were extraordinary on 17th January to 20th January,side from the Grammy-hosted charity auction event during that time. It’s also possible that this increased activity was part of the build-up to the Grammy Awards, which were held on February 5th.\n",
    "\n",
    "As for the outlier on February 5th, it aligns on the Grammy Awards day, so the higher average session duration is expected. Users likely stayed on the site for longer periods to follow live updates, watch streams, or access event-related content. However, unlike the outliers in January, this one did not show a high number of pages per session, which suggests users may have kept the site open without much navigation, most likely just staying on the same homepage for a long period of time.n."
   ]
  },
  {
   "cell_type": "markdown",
   "id": "253e88f0-496a-41fe-b099-8e8f2f5c19fb",
   "metadata": {},
   "source": [
    "## Summary\n",
    "\n",
    "As a response to my question in the \"Introduction\" section, I created various metrics for gauging user engagement. The metrics are: average bounced sessions proportion, and average pages per session. TRA outperformed the Grammys website with both metrics which demonstrates higher user engagement.\n",
    "\n",
    "However, there is a loophole with my metric. The average higher pages per session alone might not reflect genuine user engagement if users are simply clicking quickly through pages. Therefore, I derived a new measure which is plotting pages per session against average session duration(in seconds). With this measure, we can see how much the users interacts with the website as well as how long they are staying on the website on average. As a result, TRA's data point showed higher average session durations for similar page counts compared to Grammys, supporting the fact that users spent more meaningful time on TRA site.\n",
    "\n",
    "I also examined special event days, specifically Grammy Awards days, by plotting visitor trends over time. These days showed clear traffic spikes on visitors count, which confirmed about having more visitors on special events. Consequently, on these days, Grammys’ website outperformed TRA—visitors due to how the visitors on Grammys' website stayed longer and had higher PPS, indicating that Grammys kept their user engaged within these eventful days.\n",
    "\n",
    "Lastly, I went back to my scatter plot where I plotted pages per session and average session duration and investigated its outliers. The investigation showed that the outliers are correlated with other notable events (e.g., nominations, announcements), and not awards days. The outliers most likely reflect the increased interest in Grammy-related content in that period of time.\n",
    "\n",
    "Overall, TRA website demonstrated stronger user engagement than Grammys website, except on Grammy Awards day where Grammys website does better. Despite my user engagement metric, the Grammy Awards days can also affect the web statistics on that day. With all this information, we can derive some interesting insights."
   ]
  },
  {
   "cell_type": "markdown",
   "id": "de38d3d9-ec43-43ff-8769-a60924573d8b",
   "metadata": {},
   "source": [
    "## Insights & Recommendations\n",
    "\n",
    "**-Benchmark TRA's strength:** Since TRA website is doing better overall, Grammy should explore and identify the differences in design, user experience, content strategy, and technical performance between the two sites. Identifying what works well in TRA could potentially improve Grammys' website.\n",
    "\n",
    "**-Leverage Grammy Awards Days:**  Given the significant spike in user activity on the Grammys site on Grammy Awards days, they should capitilize on this opportunity by doing advertisements, announcements, highlights, promote sponsors, etc. These actions could enhance user engagement and monetization during this period.\n",
    "\n",
    "**-Final Note:** Although TRA does not perform as well as Grammys on Grammy Awards days, I believe there's no need for any corrective actions. Because TRA already performs well overall, and serves a different purpose. Therefore, both platforms should continue playing to their strengths while ensuring consistent user experience and strategic cross-promotion when appropriate."
   ]
  },
  {
   "cell_type": "markdown",
   "id": "3c1562a4-26c0-4062-815a-f957caa1f94a",
   "metadata": {},
   "source": [
    "## Limitations of Analysis and Room for Improvement\n",
    "\n",
    "Due to the limitations of variables, my options were very limited. While I aimed to explore the data as thoroughly as possible, certain user engagement metrics or behavioral patterns may have been overlooked due to data limitations or lack of domain-specific knowledge. \n",
    "\n",
    "For future improvements, incorporating other data sources like device/browser types, or demographic information(if possible), could offer a more comprehensive understanding of the user behvaior. Expanding the dataset would definitely reveal more insights and deeper understanding on what drives user engagement in both websites."
   ]
  },
  {
   "cell_type": "markdown",
   "id": "80bd0fe8-0507-42d0-8673-adfad32cdef2",
   "metadata": {},
   "source": [
    "## REFERENCES"
   ]
  },
  {
   "cell_type": "markdown",
   "id": "a1c6af59-f110-4ef1-a5b1-7ba0ac2050ad",
   "metadata": {},
   "source": [
    "Recording Academy. (2022). Your Future Is Now: 2022 Scholarship Program From The Black Music Collective & Amazon Music. Recording Academy. Retrieved June 5, 2025, from https://www.recordingacademy.com/news/your-future-now-2022-scholarship-program-black-music-collective-bmc-amazon-music\n",
    "\n",
    "Recording Academy. (2021). 2022 GRAMMYs: Updated Rules & Guidelines From The Recording Academy. GRAMMY.com. Retrieved June 5, 2025, from https://www.grammy.com/news/2022-grammys-updated-rules-guidelines-recording-academy\n",
    "\n",
    "Recording Academy. (2021). 2022 GRAMMYs: The Recording Academy Announces Major Changes. GRAMMY.com. Retrieved June 5, 2025, from https://www.grammy.com/news/2022-grammys-recording-academy-announces-major-changes\n",
    "\n",
    "News Center Maine. (2023). 2023 GRAMMY Charity Auction To Benefit MusiCares Features Joni Mitchell, Rolling Stones, Jon Batiste & More. NewsCenterMaine.com. Retrieved June 5, 2025, from https://www.newscentermaine.com/article/news/nation-world/2023-grammy-charity-auction-musicares/507-4d733e7c-8217-4d46-8e2e-0122d61a1414"
   ]
  }
 ],
 "metadata": {
  "kernelspec": {
   "display_name": "Python 3 (ipykernel)",
   "language": "python",
   "name": "python3"
  },
  "language_info": {
   "codemirror_mode": {
    "name": "ipython",
    "version": 3
   },
   "file_extension": ".py",
   "mimetype": "text/x-python",
   "name": "python",
   "nbconvert_exporter": "python",
   "pygments_lexer": "ipython3",
   "version": "3.11.7"
  }
 },
 "nbformat": 4,
 "nbformat_minor": 5
}
